{
 "cells": [
  {
   "cell_type": "code",
   "execution_count": 87,
   "metadata": {
    "collapsed": false
   },
   "outputs": [
    {
     "name": "stdout",
     "output_type": "stream",
     "text": [
      "Already connected.  This client instance connected to server http://localhost:9099/v1 (version=0.4.3-201511049238) as user test_api_key_1 at 2015-11-06 19:27:15.944395.\n"
     ]
    }
   ],
   "source": [
    "import json\n",
    "import datetime\n",
    "import trustedanalytics as ia\n",
    "\n",
    "ia.connect()"
   ]
  },
  {
   "cell_type": "markdown",
   "metadata": {},
   "source": [
    "## Set up frame..."
   ]
  },
  {
   "cell_type": "code",
   "execution_count": 88,
   "metadata": {
    "collapsed": true
   },
   "outputs": [],
   "source": [
    "def add_ids(row):\n",
    "    my_json = json.loads(row[0])\n",
    "    patid = my_json['PATID'] if 'PATID' in my_json else None\n",
    "    visid = my_json['VISID'] if 'VISID' in my_json else None\n",
    "    return patid, visid\n",
    "\n",
    "def add_height(row):\n",
    "    \"\"\"Function to extract height in inches from json, and add as column in data frame.\"\"\"\n",
    "    my_json = json.loads(row[0])\n",
    "    HEIGHT_INCHES = my_json['HEIGHT_INCHES'] if 'HEIGHT_INCHES' in my_json else 0.0\n",
    "    return HEIGHT_INCHES\n",
    "\n",
    "def add_age(row):\n",
    "    my_json = json.loads(row[0])\n",
    "    AGE = my_json['AGE'] if 'AGE' in my_json else 0\n",
    "    return AGE\n",
    "\n",
    "def add_weight(row):\n",
    "    my_json = json.loads(row[0])\n",
    "    WEIGHT_LBS = 150.0\n",
    "    if 'WEIGHT_LBS' in my_json:\n",
    "        WEIGHT_LBS = my_json['WEIGHT_LBS']\n",
    "    try:\n",
    "        WEIGHT_LBS = ia.float64(WEIGHT_LBS)\n",
    "    except:\n",
    "        WEIGHT_LBS = 150.0\n",
    "    return WEIGHT_LBS\n",
    "\n",
    "def add_marital_status(row):\n",
    "    my_json = json.loads(row[0])\n",
    "    MARITAL_STATUS = my_json['MARITAL_STATUS'] if 'MARITAL_STATUS' in my_json else None\n",
    "    return MARITAL_STATUS\n",
    "\n",
    "def add_death_flag(row):\n",
    "\tmy_json = json.loads(row[0])\n",
    "\tDEATH_FLAG = my_json['DEATH_FLAG'] if 'DEATH_FLAG' in my_json else None\n",
    "\treturn DEATH_FLAG\n",
    "\n",
    "def add_meds(row):\n",
    "    my_json = json.loads(row[0])\n",
    "    med_orders = my_json['MED_ORDER_NAMEs'] if 'MED_ORDER_NAMEs' in my_json else [None]\n",
    "    discharge_med_orders = my_json['DISCHARGE_MED_ORDER_NAMEs'] if 'DISCHARGE_MED_ORDER_NAMEs' in my_json else [None]\n",
    "    if med_orders != [None] and discharge_med_orders != [None]:\n",
    "        meds = med_orders + discharge_med_orders\n",
    "    elif med_orders == [None]:\n",
    "        meds = discharge_med_orders\n",
    "    elif discharge_med_orders == [None]:\n",
    "        meds = med_orders\n",
    "    #if med_orders != [None]:\n",
    "    #    med_orders = [clean_drugs.preprocess(i) for i in med_orders]\n",
    "    return '|'.join([str(i) for i in med_orders])\n",
    "\n",
    "def add_marital_status(row):\n",
    "    my_json = json.loads(row[0])\n",
    "    MARITAL_STATUS = my_json['MARITAL_STATUS'] if 'MARITAL_STATUS' in my_json else None\n",
    "    return MARITAL_STATUS"
   ]
  },
  {
   "cell_type": "code",
   "execution_count": null,
   "metadata": {
    "collapsed": false
   },
   "outputs": [],
   "source": [
    "#Load data frame and start fresh...\n",
    "tutorial_inpat = ia.get_frame(\"tutorial_inpat_frame\")\n",
    "tutorial_inpat_model = tutorial_inpat.copy()\n",
    "tutorial_inpat_model.drop_columns([i for i in tutorial_inpat_model.column_names if i != 'data_lines'])\n",
    "tutorial_inpat_model.add_columns(add_ids, [(\"PATID\", str), (\"VISID\", str)])\n",
    "tutorial_inpat_model.add_columns(lambda row: str(row[\"PATID\"]) + str(row[\"VISID\"]), (\"EVENT_ID\", str))\n",
    "tutorial_inpat_model.add_columns(add_height, (\"HEIGHT_INCHES\", ia.float64))\n",
    "tutorial_inpat_model.add_columns(add_marital_status, (\"MARITAL_STATUS\", str))\n",
    "tutorial_inpat_model.add_columns(add_weight, (\"WEIGHT_LBS\", ia.float64))\n",
    "tutorial_inpat_model.add_columns(add_death_flag, (\"DEATH_FLAG\", str))\n",
    "tutorial_inpat_model.add_columns(add_age, (\"AGE\", ia.float64))\n",
    "tutorial_inpat_model.add_columns(add_meds, (\"MEDS\", str))"
   ]
  },
  {
   "cell_type": "code",
   "execution_count": null,
   "metadata": {
    "collapsed": true
   },
   "outputs": [],
   "source": [
    "def add_admit_date(row):\n",
    "    \"\"\"Function to extract the admit date for a patient\"\"\"\n",
    "    my_json = json.loads(row[0])\n",
    "    try:\n",
    "        ADMIT_DATE = my_json['ADM_DATE']['$date']/1000\n",
    "    except:\n",
    "        ADMIT_DATE = None\n",
    "    return ADMIT_DATE\n",
    "\n",
    "def add_discharge_date(row):\n",
    "    \"\"\"Function to extract the discharge date of a patient\"\"\"\n",
    "    my_json = json.loads(row[0])\n",
    "    try:\n",
    "        DISCHARGE_DATE = my_json['DISCHARGE_DATE']['$date']/1000\n",
    "    except:\n",
    "        DISCHARGE_DATE = None\n",
    "    return DISCHARGE_DATE"
   ]
  },
  {
   "cell_type": "code",
   "execution_count": null,
   "metadata": {
    "collapsed": false
   },
   "outputs": [],
   "source": [
    "# Add admit and discharge date columns to our data frame...\n",
    "tutorial_inpat_model.add_columns(add_admit_date, (\"ADM_DATE\", str))\n",
    "tutorial_inpat_model.add_columns(add_discharge_date, (\"DISCHARGE_DATE\", str))"
   ]
  },
  {
   "cell_type": "code",
   "execution_count": null,
   "metadata": {
    "collapsed": false,
    "scrolled": true
   },
   "outputs": [],
   "source": [
    "tutorial_inpat_model.inspect(columns=[i for i in tutorial_inpat_model.column_names if i != 'data_lines'])"
   ]
  },
  {
   "cell_type": "markdown",
   "metadata": {},
   "source": [
    "#### Filter out missing ids..."
   ]
  },
  {
   "cell_type": "code",
   "execution_count": null,
   "metadata": {
    "collapsed": false
   },
   "outputs": [],
   "source": [
    "# A slightly different syntax for filtering that I find convenient...\n",
    "# Sometimes dropping data_lines is necessary to do a filter. \n",
    "# In these situations, make sure you're done extracting features from the original json...\n",
    "def filter_patid_nones(row):\n",
    "\treturn row['PATID'] is not None \n",
    "\n",
    "def filter_visid_nones(row):\n",
    "\treturn row['VISID'] is not None \n",
    "\n",
    "# Filter out any rows without patid or visid...\n",
    "tutorial_inpat_model.drop_columns('data_lines')\n",
    "tutorial_inpat_model.filter(filter_patid_nones)\n",
    "tutorial_inpat_model.filter(filter_visid_nones)"
   ]
  },
  {
   "cell_type": "markdown",
   "metadata": {
    "collapsed": true
   },
   "source": [
    "# Let's D.A."
   ]
  },
  {
   "cell_type": "code",
   "execution_count": null,
   "metadata": {
    "collapsed": false
   },
   "outputs": [],
   "source": [
    "# Create a working copy...\n",
    "lts = tutorial_inpat_model.copy()\n",
    "\n",
    "# Flatten on the separating character...\n",
    "lts.flatten_column(\"MEDS\", \"|\")\n",
    "\n",
    "# We need to create a table ox ID x MED x Count...\n",
    "lts_lda_input = lts.group_by([\"VISID\", \"MEDS\"], ia.agg.count)\n",
    "if \"lts_lda_input_renamed\" in ia.get_frame_names():\n",
    "    ia.drop_frames(\"lts_lda_input_renamed\")\n",
    "lts_lda_input_renamed = lts_lda_input.copy(name = \"lts_lda_input_renamed\")"
   ]
  },
  {
   "cell_type": "code",
   "execution_count": null,
   "metadata": {
    "collapsed": false
   },
   "outputs": [],
   "source": [
    "# Set the parameters for the LDA model...\n",
    "nTopics = 20\n",
    "max_iterations = 2\n",
    "\n",
    "# Clean up any old attempts...\n",
    "ia.drop_models(['lts_lda_model'])\n",
    "\n",
    "# Create LDA model..\n",
    "lda_model =  ia.LdaModel(name='lts_lda_model')\n",
    "lts_lda_model = lda_model.train(lts_lda_input_renamed, \"VISID\", \"MEDS\", 'count', num_topics=nTopics, max_iterations=max_iterations)\n",
    "\n",
    "# We can extract the per-id topic distributions...\n",
    "doc_mixes = lts_lda_model['topics_given_doc']"
   ]
  },
  {
   "cell_type": "code",
   "execution_count": null,
   "metadata": {
    "collapsed": false
   },
   "outputs": [],
   "source": [
    "# Clean up old approaches...\n",
    "ia.drop_frames(['lts_lda_feature_frame'])\n",
    "\n",
    "# Copy the document x topic frame...\n",
    "lts_lda_feature_frame = doc_mixes.copy(name='lts_lda_feature_frame')\n",
    "\n",
    "# Create schema...\n",
    "schema = map(lambda i: ('topic' + \"_\" + str(i), ia.float64), range(1, nTopics + 1))\n",
    "\n",
    "# Create features frame...\n",
    "lts_lda_feature_frame.add_columns(lambda row: (row['topic_probabilities']), schema)\n",
    "lts_lda_feature_frame.drop_columns(['topic_probabilities'])"
   ]
  },
  {
   "cell_type": "code",
   "execution_count": null,
   "metadata": {
    "collapsed": false
   },
   "outputs": [],
   "source": [
    "lts_lda_feature_frame.inspect()"
   ]
  },
  {
   "cell_type": "code",
   "execution_count": null,
   "metadata": {
    "collapsed": false
   },
   "outputs": [],
   "source": [
    "tutorial_inpat_model_lda = tutorial_inpat_model.join(lts_lda_feature_frame, 'VISID')"
   ]
  },
  {
   "cell_type": "code",
   "execution_count": null,
   "metadata": {
    "collapsed": false
   },
   "outputs": [],
   "source": [
    "tutorial_inpat_model_lda.inspect(columns=[i for i in tutorial_inpat_model_lda.column_names if i != 'data_lines'])"
   ]
  },
  {
   "cell_type": "markdown",
   "metadata": {},
   "source": [
    "# Get gold-standard labels..."
   ]
  },
  {
   "cell_type": "code",
   "execution_count": null,
   "metadata": {
    "collapsed": false
   },
   "outputs": [],
   "source": [
    "def get_gold_standard(row):\n",
    "    \"\"\"\n",
    "    Function to compute nDays between discharge and admit.\n",
    "    Returns GS label.\n",
    "    \"\"\"\n",
    "    t2 = row[\"ADM_DATE\"]\n",
    "    t1 = row[\"DISCHARGE_DATE\"]\n",
    "    t1 = datetime.datetime.fromtimestamp(float(t1))\n",
    "    t2 = datetime.datetime.fromtimestamp(float(t2))\n",
    "    td = t2 - t1\n",
    "    td_days = int(divmod(td.days, 60)[-1])\n",
    "    if td_days <= 30:\n",
    "        RF30 = \"POSITIVE\"\n",
    "    else:\n",
    "        RF30 = \"NEGATIVE\"\n",
    "    return RF30\n",
    "\n",
    "tutorial_inpat_model_lda.add_columns(get_gold_standard, (\"RF30\", str))"
   ]
  },
  {
   "cell_type": "code",
   "execution_count": null,
   "metadata": {
    "collapsed": false
   },
   "outputs": [],
   "source": [
    "tutorial_inpat_model_lda.inspect(n=10, columns=[i for i in tutorial_inpat_model_lda.column_names if i in ['ADM_DATE', 'DISCHARGE_DATE', \"RF30\", \"RF90\"]])"
   ]
  },
  {
   "cell_type": "code",
   "execution_count": null,
   "metadata": {
    "collapsed": false
   },
   "outputs": [],
   "source": [
    "rf30_count = tutorial_inpat_model_lda.group_by('RF30', ia.agg.count)"
   ]
  },
  {
   "cell_type": "code",
   "execution_count": null,
   "metadata": {
    "collapsed": false
   },
   "outputs": [],
   "source": [
    "rf30_count.inspect()"
   ]
  },
  {
   "cell_type": "markdown",
   "metadata": {},
   "source": [
    "## Demo: Preparing a column for a classifier/algorithm--feature encoding train/test!"
   ]
  },
  {
   "cell_type": "markdown",
   "metadata": {},
   "source": [
    "#### Demo: Encoding features"
   ]
  },
  {
   "cell_type": "code",
   "execution_count": null,
   "metadata": {
    "collapsed": false
   },
   "outputs": [],
   "source": [
    "# Let's demonstrate this with a non-numeric column, the MARITAL_STATUS feature...\n",
    "tutorial_inpat_model_lda.inspect(columns=\"MARITAL_STATUS\")"
   ]
  },
  {
   "cell_type": "code",
   "execution_count": null,
   "metadata": {
    "collapsed": false
   },
   "outputs": [],
   "source": [
    "# Let's generate a summary table of the possible values here...\n",
    "tutorial_inpat_model_lda_count = tutorial_inpat_model_lda.group_by(\"MARITAL_STATUS\", ia.agg.count)"
   ]
  },
  {
   "cell_type": "code",
   "execution_count": null,
   "metadata": {
    "collapsed": false
   },
   "outputs": [],
   "source": [
    "tutorial_inpat_model_lda_count.inspect()"
   ]
  },
  {
   "cell_type": "code",
   "execution_count": null,
   "metadata": {
    "collapsed": false
   },
   "outputs": [],
   "source": [
    "def numericalize_udf(in_val, dx):\n",
    "        try:\n",
    "            return_val = dx[in_val]\n",
    "        except:\n",
    "            return_val = 0\n",
    "        return return_val\n",
    "    \n",
    "# ia.drop_frames(\"numerical_test\")\n",
    "# numerical_test = tutorial_inpat.copy(name='numerical_test')\n",
    "# numerical_test_count = numerical_test.group_by('MARITAL_STATUS', ia.agg.count)\n",
    "\n",
    "for col in [\"MARITAL_STATUS\"]:\n",
    "    new_column_name = col + \"_INT\"\n",
    "    f = tutorial_inpat_model_lda.download()\n",
    "    d = f.to_dict()[col]\n",
    "    rev_dx = dict((v, k) for k, v in d.iteritems())\n",
    "    \n",
    "    tutorial_inpat_model_lda.add_columns(lambda row: numericalize_udf(row[col], rev_dx), (new_column_name, ia.int32))"
   ]
  },
  {
   "cell_type": "code",
   "execution_count": null,
   "metadata": {
    "collapsed": false
   },
   "outputs": [],
   "source": [
    "tutorial_inpat_model_lda.inspect()"
   ]
  },
  {
   "cell_type": "markdown",
   "metadata": {},
   "source": [
    "### Partition into train/test"
   ]
  },
  {
   "cell_type": "code",
   "execution_count": null,
   "metadata": {
    "collapsed": false
   },
   "outputs": [],
   "source": [
    "PATIDS = tutorial_inpat_model_lda.group_by(\"PATID\", ia.agg.count)\n",
    "PATIDSdl = PATIDS.download(n=PATIDS.row_count, columns='PATID')\n",
    "unique_patids = list(set(list(PATIDSdl['PATID'])))\n",
    "random.shuffle(unique_patids)\n",
    "test_patids = unique_patids[0:int(len(unique_patids) * 0.10)]\n",
    "train_patids = [i for i in unique_patids if i not in test_patids]\n",
    "\n",
    "\n",
    "def label_train_test(row, test_list=test_patids, train_list=train_patids):\n",
    "    if row['PATID'] in test_patids:\n",
    "        return \"TEST\"\n",
    "    else:\n",
    "        return \"TRAIN\"\n",
    "    \n",
    "\n",
    "tutorial_inpat_model_lda.add_columns(label_train_test, (\"DATASET\", str))"
   ]
  },
  {
   "cell_type": "code",
   "execution_count": null,
   "metadata": {
    "collapsed": false
   },
   "outputs": [],
   "source": [
    "len(train_patids)"
   ]
  },
  {
   "cell_type": "code",
   "execution_count": null,
   "metadata": {
    "collapsed": false
   },
   "outputs": [],
   "source": [
    "len(test_patids)"
   ]
  },
  {
   "cell_type": "code",
   "execution_count": null,
   "metadata": {
    "collapsed": false
   },
   "outputs": [],
   "source": [
    "tutorial_inpat_model_lda.inspect(columns=[i for i in tutorial_inpat_model_lda.column_names if i != 'data_lines'])"
   ]
  },
  {
   "cell_type": "markdown",
   "metadata": {},
   "source": [
    "## Train Random Forest"
   ]
  },
  {
   "cell_type": "code",
   "execution_count": null,
   "metadata": {
    "collapsed": false
   },
   "outputs": [],
   "source": [
    "trainframe = tutorial_inpat_model_lda.copy()\n",
    "trainframe.filter(lambda row: row['DATASET'] == \"TRAIN\")\n",
    "testframe = tutorial_inpat_model_lda.copy()\n",
    "testframe.filter(lambda row: row['DATASET'] == \"TEST\")"
   ]
  },
  {
   "cell_type": "code",
   "execution_count": null,
   "metadata": {
    "collapsed": false
   },
   "outputs": [],
   "source": [
    "train.column_names"
   ]
  },
  {
   "cell_type": "code",
   "execution_count": null,
   "metadata": {
    "collapsed": false
   },
   "outputs": [],
   "source": [
    "rf_model_tutorial = ia.RandomForestClassifierModel('rf_model_tutorial2')"
   ]
  },
  {
   "cell_type": "code",
   "execution_count": null,
   "metadata": {
    "collapsed": false
   },
   "outputs": [],
   "source": [
    "# train.column_names\n",
    "rf_model_tutorial"
   ]
  },
  {
   "cell_type": "code",
   "execution_count": null,
   "metadata": {
    "collapsed": false
   },
   "outputs": [],
   "source": [
    "def rf30_str(row):\n",
    "    if row['RF30'] == \"POSITIVE\":\n",
    "        return 1\n",
    "    else:\n",
    "        return 0\n",
    "\n",
    "trainframe.add_columns(rf30_str, (\"RF30STR\", ia.float32))\n",
    "testframe.add_columns(rf30_str, (\"RF30STR\", ia.float32))"
   ]
  },
  {
   "cell_type": "code",
   "execution_count": null,
   "metadata": {
    "collapsed": false
   },
   "outputs": [],
   "source": [
    "rf_model_tutorial_results = rf_model_tutorial.train(frame=trainframe, \n",
    "                                                    label_column=\"RF30STR\", \n",
    "                                                    observation_columns=[\"topic_1\", \"topic_2\"], \n",
    "                                                    num_classes=2, \n",
    "                                                    impurity='gini', \n",
    "                                                    max_depth=4, \n",
    "                                                    seed=01001000\n",
    "                                                   )"
   ]
  },
  {
   "cell_type": "code",
   "execution_count": null,
   "metadata": {
    "collapsed": false
   },
   "outputs": [],
   "source": [
    "# test the model\n",
    "x = rf_model_tutorial.test(testframe, \"RF30STR\")"
   ]
  },
  {
   "cell_type": "code",
   "execution_count": null,
   "metadata": {
    "collapsed": false
   },
   "outputs": [],
   "source": [
    "x"
   ]
  },
  {
   "cell_type": "code",
   "execution_count": null,
   "metadata": {
    "collapsed": true
   },
   "outputs": [],
   "source": [
    "x = m.publish()"
   ]
  }
 ],
 "metadata": {
  "kernelspec": {
   "display_name": "Python 2",
   "language": "python",
   "name": "python2"
  },
  "language_info": {
   "codemirror_mode": {
    "name": "ipython",
    "version": 2
   },
   "file_extension": ".py",
   "mimetype": "text/x-python",
   "name": "python",
   "nbconvert_exporter": "python",
   "pygments_lexer": "ipython2",
   "version": "2.7.5"
  }
 },
 "nbformat": 4,
 "nbformat_minor": 0
}
