{
 "cells": [
  {
   "cell_type": "markdown",
   "metadata": {},
   "source": [
    "![TAP](https://avatars2.githubusercontent.com/u/13385739?v=3&s=200 \"TAP\")\n",
    "# Module 3: Feature Generation & Encoding\n",
    "This module will give you an overview for how to create feature columns from the raw data, and how to encode them in a way that is understandable to our classifiers. And to our llama."
   ]
  },
  {
   "cell_type": "markdown",
   "metadata": {},
   "source": [
    "#### Import the necessary libraries and connect to the server:"
   ]
  },
  {
   "cell_type": "code",
   "execution_count": null,
   "metadata": {
    "collapsed": false
   },
   "outputs": [],
   "source": [
    "import re\n",
    "import ast\n",
    "import json\n",
    "import string\n",
    "import random\n",
    "import trustedanalytics as ia\n",
    "from clean_drugs import *\n",
    "\n",
    "ia.connect()\n",
    "\n",
    "random.seed = 01001000"
   ]
  },
  {
   "cell_type": "markdown",
   "metadata": {},
   "source": [
    "## Demo: Mean-center the heights of patients"
   ]
  },
  {
   "cell_type": "code",
   "execution_count": null,
   "metadata": {
    "collapsed": false
   },
   "outputs": [],
   "source": [
    "#Load data frame and start fresh...\n",
    "tutorial_inpat = ia.get_frame(\"tutorial_inpat_frame\")\n",
    "tutorial_inpat.drop_columns([i for i in tutorial_inpat.column_names if i != 'data_lines'])"
   ]
  },
  {
   "cell_type": "code",
   "execution_count": null,
   "metadata": {
    "collapsed": false
   },
   "outputs": [],
   "source": [
    "def add_ids(row):\n",
    "    \"\"\"Function to extract ids from json\"\"\"\n",
    "    my_json = json.loads(row[0])\n",
    "    patid = my_json['PATID'] if 'PATID' in my_json else None\n",
    "    visid = my_json['VISID'] if 'VISID' in my_json else None\n",
    "    return patid, visid\n",
    "\n",
    "# Add Patient and Visit ids, use them to create a handy event_id as well!\n",
    "tutorial_inpat.add_columns(add_ids, [(\"PATID\", str), (\"VISID\", str)])\n",
    "tutorial_inpat.add_columns(lambda row: str(row[\"PATID\"]) + str(row[\"VISID\"]), (\"EVENT_ID\", str))"
   ]
  },
  {
   "cell_type": "code",
   "execution_count": null,
   "metadata": {
    "collapsed": false
   },
   "outputs": [],
   "source": [
    "def add_height(row):\n",
    "    \"\"\"Function to extract height in inches from json, and add as column in data frame.\"\"\"\n",
    "    my_json = json.loads(row[0])\n",
    "    HEIGHT_INCHES = my_json['HEIGHT_INCHES'] if 'HEIGHT_INCHES' in my_json else 0.0\n",
    "    return HEIGHT_INCHES\n",
    "\n",
    "# Add a column of patient height...\n",
    "tutorial_inpat.add_columns(add_height, (\"HEIGHT_INCHES\", ia.float64))"
   ]
  },
  {
   "cell_type": "markdown",
   "metadata": {},
   "source": [
    "## Demo: Imputation"
   ]
  },
  {
   "cell_type": "code",
   "execution_count": null,
   "metadata": {
    "collapsed": false
   },
   "outputs": [],
   "source": [
    "default_values = {\"HEIGHT_INCHES\": 66.0}\n",
    "\n",
    "def impute_with_constants(frame, column_default_value_dict):\n",
    "    \"\"\"\n",
    "    Perform imputation by a constant on a set of columns.\n",
    "    Input takes a dictionary matching column names to imputation values, \n",
    "    which will replace any Nones.\n",
    "\n",
    "    This operation is in-place and modifies the incoming dataframe.\n",
    "    \"\"\"\n",
    "    columns_to_impute  = column_default_value_dict.keys()\n",
    "\n",
    "    old_schema_dict = dict(frame.schema)\n",
    "\n",
    "    new_columns_schema = []\n",
    "    rename_dict = {}\n",
    "\n",
    "    for c in columns_to_impute:\n",
    "        new_columns_schema.append((c+\"_new\", old_schema_dict[c]))\n",
    "        rename_dict[ c + \"_new\"] = c\n",
    "\n",
    "    frame.add_columns(lambda row: map (lambda col: column_default_value_dict[col] if row[col] == 0.0 else row[col], columns_to_impute), new_columns_schema)\n",
    "    frame.drop_columns(columns_to_impute)\n",
    "    frame.rename_columns(rename_dict)\n",
    "    return frame"
   ]
  },
  {
   "cell_type": "code",
   "execution_count": null,
   "metadata": {
    "collapsed": false
   },
   "outputs": [],
   "source": [
    "tutorial_inpat_impute = impute_with_constants(tutorial_inpat, default_values)"
   ]
  },
  {
   "cell_type": "markdown",
   "metadata": {},
   "source": [
    "#### Let's examine the output of the _column_summary_statistics_ function:"
   ]
  },
  {
   "cell_type": "code",
   "execution_count": null,
   "metadata": {
    "collapsed": true
   },
   "outputs": [],
   "source": [
    "tutorial_inpat_impute.column_summary_statistics(\"HEIGHT_INCHES\")"
   ]
  },
  {
   "cell_type": "code",
   "execution_count": null,
   "metadata": {
    "collapsed": true
   },
   "outputs": [],
   "source": [
    "tutorial_inpat.column_summary_statistics('HEIGHT_INCHES')"
   ]
  },
  {
   "cell_type": "code",
   "execution_count": null,
   "metadata": {
    "collapsed": false
   },
   "outputs": [],
   "source": [
    "# column_summary_statistics is a member function of data frames...\n",
    "tutorial_inpat.column_summary_statistics('HEIGHT_INCHES')"
   ]
  },
  {
   "cell_type": "code",
   "execution_count": null,
   "metadata": {
    "collapsed": false
   },
   "outputs": [],
   "source": [
    "# The result of column_summary_statistics is a dictionary. \n",
    "# We can extract just the bits we need...\n",
    "avg = tutorial_inpat.column_summary_statistics('HEIGHT_INCHES')['mean']"
   ]
  },
  {
   "cell_type": "code",
   "execution_count": null,
   "metadata": {
    "collapsed": false
   },
   "outputs": [],
   "source": [
    "def add_mean_centered_height(row, avg=avg):\n",
    "    \"\"\"\n",
    "    Function to mean-center the heights of our data set.\n",
    "    Assumes the average has already been computed and is stored in the variable 'avg'.\n",
    "    \"\"\"\n",
    "    height = row['HEIGHT_INCHES']\n",
    "    avg_height = avg/height\n",
    "    return avg_height\n",
    "\n",
    "# Add a column of mean-centered patient heights...\n",
    "tutorial_inpat.add_columns(add_mean_centered_height, (\"MEAN_CENTERED_HEIGHT_INCHES\", ia.float64))"
   ]
  },
  {
   "cell_type": "markdown",
   "metadata": {},
   "source": [
    "## Demo: Add medication lists and clean up text features"
   ]
  },
  {
   "cell_type": "code",
   "execution_count": null,
   "metadata": {
    "collapsed": false
   },
   "outputs": [],
   "source": [
    "def add_meds(row):\n",
    "    my_json = json.loads(row[0])\n",
    "    med_orders = my_json['MED_ORDER_NAMEs'] if 'MED_ORDER_NAMEs' in my_json else [None]\n",
    "    discharge_med_orders = my_json['DISCHARGE_MED_ORDER_NAMEs'] if 'DISCHARGE_MED_ORDER_NAMEs' in my_json else [None]\n",
    "    if med_orders != [None] and discharge_med_orders != [None]:\n",
    "        meds = med_orders + discharge_med_orders\n",
    "    elif med_orders == [None]:\n",
    "        meds = discharge_med_orders\n",
    "    elif discharge_med_orders == [None]:\n",
    "        meds = med_orders\n",
    "    return '|'.join([str(i) for i in med_orders])"
   ]
  },
  {
   "cell_type": "code",
   "execution_count": null,
   "metadata": {
    "collapsed": false
   },
   "outputs": [],
   "source": [
    "# Add column of medications for each patient...\n",
    "tutorial_inpat.drop_columns(\"MEDS\")\n",
    "tutorial_inpat.add_columns(add_meds, (\"MEDS\", str))"
   ]
  },
  {
   "cell_type": "markdown",
   "metadata": {},
   "source": [
    "## Let's build a massive text-cleaning procedure..."
   ]
  },
  {
   "cell_type": "code",
   "execution_count": null,
   "metadata": {
    "collapsed": false
   },
   "outputs": [],
   "source": [
    "pattern = re.compile('[^a-zA-Z]+')\n",
    "stopwords = ['mg', 'ml', 'units', 'gram', 'mcg']\n",
    "re_capsule = re.compile(r'capsules?')\n",
    "re_oraltablet = re.compile(r'oral\\stablets?')\n",
    "re_oraltablet = re.compile(r'oral\\stabs?')\n",
    "re_oralliquid = re.compile(r'oral\\sliquid?')\n",
    "re_oralliquid = re.compile(r'oral\\sdose?')\n",
    "re_oralsuspension = re.compile(r'oral\\ssuspensions?')\n",
    "re_suspension = re.compile(r'suspensions?')\n",
    "re_tablet = re.compile(r'tablets?')\n",
    "re_intrathecal = re.compile(r'intrathecall?y?')\n",
    "STOPS = [re_capsule, re_oraltablet, re_oralliquid, re_oralsuspension, re_suspension, re_tablet, re_intrathecal]\n",
    "\n",
    "def to_clean_doc(text, delimiter='|'):\n",
    "    text = re.sub(pattern, ' ', text)\n",
    "    text = text.lower()\n",
    "    tokens = text.split()\n",
    "    tokens = [w for w in tokens if w not in stopwords]\n",
    "    tokens = [w for w in tokens if len(w)>2]\n",
    "    tokens = map(preprocess, tokens)\n",
    "    tokens = [w for w in tokens if len(w)>0]\n",
    "    return delimiter.join(tokens)\n",
    "\n",
    "def clean_preprocess(med):\n",
    "    med = med.lower()\n",
    "    for stop in STOPS:\n",
    "        med = re.sub(stop, '', med)\n",
    "    if len(re.findall(r'^(admission\\slabs?|abdomen|abdominal)', med)) != 0:\n",
    "        med = ''\n",
    "    if len(re.findall(r'^(accucheck|accuchek|accu\\schek|accu\\scheck)', med)) != 0:\n",
    "        med = 'accucheck'\n",
    "    if len(re.findall(r'^glucose\\stest\\sstrips?', med)) != 0:\n",
    "        med = 'glucose test strips'\n",
    "    if len(re.findall(r'^insulin\\ssliding\\sscale', med)) != 0:\n",
    "        med = 'insulin sliding scale'\n",
    "    if len(re.findall(r'(adm override)', med)) != 0:\n",
    "        med = ''\n",
    "    if len(re.findall(r'^insulin\\ssyringes', med)) != 0:\n",
    "        med = 'insulin syringes'\n",
    "    if len(re.findall(r'^insulin.*?daily', med)) != 0:\n",
    "        med = 'insulin daily'\n",
    "    if len(re.findall(r'^lantus', med)) != 0:\n",
    "        med = 'lantus'\n",
    "    if len(re.findall(r'^acetaminophen\\scodeine', med)) != 0:\n",
    "        med = 'acetaminophen codeine'\n",
    "    elif len(re.findall(r'^acetaminophen', med)) != 0:\n",
    "        med = 'acetaminophen'\n",
    "    if len(re.findall(r'advair', med)) != 0:\n",
    "        med = 'advair'\n",
    "    if len(re.findall(r'advil', med)) != 0:\n",
    "        med = 'advil'\n",
    "    if len(re.findall(r'^afrin', med)) != 0:\n",
    "        med = 'afrin'\n",
    "    if len(re.findall(r'^albuterol', med)) != 0:\n",
    "        med = 'albuterol'\n",
    "    if len(re.findall(r'^zofran', med)) != 0:\n",
    "        med = 'zofran '\n",
    "    if len(re.findall(r'^zinc\\soxide', med)) != 0:\n",
    "        med = 'zinc oxide'\n",
    "    if len(re.findall(r'^zinc\\ssulfate', med)) != 0:\n",
    "        med = 'zinc sulfate'\n",
    "    if len(re.findall(r'^zinc\\ssupplement', med)) != 0:\n",
    "        med = 'zinc supplement'\n",
    "    if len(re.findall(r'^zantac', med)) != 0:\n",
    "        med = 'zantac'\n",
    "    if len(re.findall(r'^xenaderm', med)) != 0:\n",
    "        med = 'xenaderm'\n",
    "    if len(re.findall(r'^wound\\scare', med)) != 0:\n",
    "        med = 'wound care'\n",
    "    if len(re.findall(r'^chloraseptic', med)) != 0:\n",
    "        med = 'chloraseptic'\n",
    "    if len(re.findall(r'^cholecalciferol', med)) != 0:\n",
    "        med = 'cholecalciferol'\n",
    "    if len(re.findall(r'^amphotericin', med)) != 0:\n",
    "        med = 'amphotericin'\n",
    "    if len(re.findall(r'^artificial\\stears?', med)) != 0:\n",
    "        med = 'artificial tears'\n",
    "    if len(re.findall(r'^warfarin', med)) != 0:\n",
    "        med = 'warfarin'\n",
    "    if len(re.findall(r'^prednisone', med)) != 0:\n",
    "        med = 'prednisone'\n",
    "    if len(re.findall(r'^percocet', med)) != 0:\n",
    "        med = 'percocet'\n",
    "    if len(re.findall(r'^benadryl', med)) != 0:\n",
    "        med = 'benadryl'\n",
    "    if len(re.findall(r'^vancomycin', med)) != 0:\n",
    "        med = 'vancomycin'\n",
    "    if len(re.findall(r'^vanco', med)) != 0:\n",
    "        med = 'vanco'\n",
    "    if len(re.findall(r'^bisacodyl', med)) != 0:\n",
    "        med = 'bisacodyl'\n",
    "    if len(re.findall(r'^nitroglycerin', med)) != 0:\n",
    "        med = 'nitroglycerin'\n",
    "    if len(re.findall(r'^acyclovir\\soral', med)) != 0:\n",
    "        med = 'acyclovir'\n",
    "    if len(re.findall(r'(acylovir|acycl)$', med)) != 0:\n",
    "        med = 'acylovir'\n",
    "    if len(re.findall(r'^alpraz', med)) != 0:\n",
    "        med = 'alprazolam'\n",
    "    if len(re.findall(r'^(alprazolam)', med)) != 0:\n",
    "        med = 'alprazolam'\n",
    "    if len(re.findall(r'^ambien', med)) != 0:\n",
    "        med = 'ambien'\n",
    "    if len(re.findall(r'^carnation', med)) != 0:\n",
    "        med = 'carnation instant breakfast'\n",
    "    if len(re.findall(r'^cepacol', med)) != 0:\n",
    "        med = 'cepacol'\n",
    "    if len(re.findall(r'^coumadin', med)) != 0:\n",
    "        med = 'coumadin'\n",
    "    if len(re.findall(r'^ensure', med)) != 0:\n",
    "        med = 'ensure'\n",
    "    if len(re.findall(r'^fluticasone', med)) != 0:\n",
    "        med = 'fluticasone'\n",
    "    if len(re.findall(r'^hydrocortisone', med)) != 0:\n",
    "        med = 'hydrocortisone'\n",
    "    if len(re.findall(r'^(insulin|novolog)', med)) != 0:\n",
    "        med = 'insulin'\n",
    "    if len(re.findall(r'^multivitamin', med)) != 0:\n",
    "        med = 'multivitamin'\n",
    "    if len(re.findall(r'^normal\\ssaline', med)) != 0:\n",
    "        med = 'normal saline'\n",
    "    if len(re.findall(r'^oxygen', med)) != 0:\n",
    "        med = 'oxygen'\n",
    "    if len(re.findall(r'^calcium\\sacetate', med)) != 0:\n",
    "        med = 'calcium acetate'\n",
    "    if len(re.findall(r'^calcium\\scarbonate', med)) != 0:\n",
    "        med = 'calcium carbonate'\n",
    "    if len(re.findall(r'^calcium\\schloride', med)) != 0:\n",
    "        med = 'calcium chloride'\n",
    "    if len(re.findall(r'^calcium\\smagnesium', med)) != 0:\n",
    "        med = 'calcium magnesium'\n",
    "    if len(re.findall(r'^aspirin', med)) != 0:\n",
    "        med = 'aspirin'\n",
    "    if len(re.findall(r'^sodium\\schloride', med)) != 0:\n",
    "        med = 'sodium chloride'\n",
    "    if len(re.findall(r'^ferrous\\ssulfate', med)) != 0:\n",
    "        med = 'ferrous sulfate'\n",
    "    if len(re.findall(r'^motel', med)) != 0:\n",
    "        med = 'motelukast'\n",
    "\n",
    "    if len(re.findall(r'^(picc|comprehensive\\smetabolic\\spanel|blood|with|work|wound|whom|wheelchair|(rolling\\s)?walker|water|cervical|check|chem|chest|commode|complete|continue|continuous|contour|contrast|dexamethasone|diabetes|diabetic|diagnosis|dressing|emergency|emergencies|gauze|have|head|home|hospice|hospital|interventional|investigational|laboratory|labs?\\s|labwork|lateral|needle|panel|patient|physical\\stherapy|please|portable|questions?|saline|script|scan|sliding|sling|speech|supplemental\\soxygen|this|total|touch|tube|twice\\sweekly|upright|will\\sneed|with\\sdiff|would\\sscare|chest\\sxray|draw|outpatient|basic\\smetabolic\\spanel|visiting\\snurse|needs?\\s|stat\\slabs?|should\\shave|brain|alcohol|alchol)', med)) != 0:\n",
    "        med = ''\n",
    "    med = re.sub(r'^(daily|week?ly|monthly|days?)', '', med)\n",
    "    med = re.sub(r'(daily|week?ly|monthly|days?)$', '', med)\n",
    "    med = re.sub(r'(home\\sdose|ivbp|ivpb|let(\\s(once|twice))?|liquid|disp)$', '', med)\n",
    "    med = re.sub(r'(caps|hours|solution|(piggyback\\s)?every.*?|every\\shours|powder\\sinjection|intravenous\\s?(injection|solution)?|oral|tabs|topical\\s?(cream|topical\\scream|ointment)|(let)?\\sstop\\sdate)$', '', med)\n",
    "    med = re.sub(r'(extended\\srelease|extended\\srelease\\slet\\sextended\\srelease|let|oral|oral\\sconcentrate|orally\\sdisintegrating\\s(once|twice)\\shome|)$', '', med)\n",
    "    med = re.sub(r'(compounding\\spowder|home\\smedication|intrathecal|le|let|let\\sthree\\stimes|oral|oral\\sliquid|orally(\\smorning|evening)(\\sorally\\s(morning|evening))?)$', '', med)\n",
    "    med = re.sub(r'\\s+', ' ', med)\n",
    "    med = re.sub(r' \\-', ' ', med)\n",
    "    med = re.sub(r'\\d+.*?$', ' ', med)\n",
    "    med = re.sub(r'\\sivpb', ' ', med)\n",
    "    med = re.sub(r'_', ' ', med)\n",
    "    med = med.strip()\n",
    "    return med"
   ]
  },
  {
   "cell_type": "markdown",
   "metadata": {},
   "source": [
    "## Ok, back to the action!"
   ]
  },
  {
   "cell_type": "code",
   "execution_count": null,
   "metadata": {
    "collapsed": true
   },
   "outputs": [],
   "source": [
    "def add_clean_meds(row):\n",
    "    clean_meds_out = []\n",
    "    meds = row['MEDS']\n",
    "    meds_list = meds.split('|')\n",
    "    for i in meds_list:\n",
    "        clean_meds_out.append(clean_preprocess(med=i.strip()))\n",
    "    return \"|\".join(clean_meds_out)"
   ]
  },
  {
   "cell_type": "code",
   "execution_count": null,
   "metadata": {
    "collapsed": false
   },
   "outputs": [],
   "source": [
    "# Add a column of cleaned-up medications for each patient...\n",
    "tutorial_inpat.drop_columns(\"CLEAN_MEDS\")\n",
    "tutorial_inpat.add_columns(add_clean_meds, (\"CLEAN_MEDS\", str))"
   ]
  },
  {
   "cell_type": "code",
   "execution_count": null,
   "metadata": {
    "collapsed": false
   },
   "outputs": [],
   "source": [
    "tutorial_inpat.column_names"
   ]
  },
  {
   "cell_type": "code",
   "execution_count": null,
   "metadata": {
    "collapsed": false
   },
   "outputs": [],
   "source": [
    "tmp_meds_test = tutorial_inpat.take(1)"
   ]
  },
  {
   "cell_type": "code",
   "execution_count": null,
   "metadata": {
    "collapsed": false
   },
   "outputs": [],
   "source": [
    "tmp_meds_test[0][1:]"
   ]
  }
 ],
 "metadata": {
  "kernelspec": {
   "display_name": "Python 2",
   "language": "python",
   "name": "python2"
  },
  "language_info": {
   "codemirror_mode": {
    "name": "ipython",
    "version": 2
   },
   "file_extension": ".py",
   "mimetype": "text/x-python",
   "name": "python",
   "nbconvert_exporter": "python",
   "pygments_lexer": "ipython2",
   "version": "2.7.5"
  }
 },
 "nbformat": 4,
 "nbformat_minor": 0
}
